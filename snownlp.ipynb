{
 "cells": [
  {
   "cell_type": "code",
   "execution_count": 2,
   "id": "71dc225e",
   "metadata": {},
   "outputs": [
    {
     "name": "stdout",
     "output_type": "stream",
     "text": [
      "Requirement already satisfied: snownlp in /Users/wanggang/Documents/venv/ai/lib/python3.11/site-packages (0.12.3)\n",
      "\n",
      "\u001b[1m[\u001b[0m\u001b[34;49mnotice\u001b[0m\u001b[1;39;49m]\u001b[0m\u001b[39;49m A new release of pip available: \u001b[0m\u001b[31;49m22.3.1\u001b[0m\u001b[39;49m -> \u001b[0m\u001b[32;49m23.2.1\u001b[0m\n",
      "\u001b[1m[\u001b[0m\u001b[34;49mnotice\u001b[0m\u001b[1;39;49m]\u001b[0m\u001b[39;49m To update, run: \u001b[0m\u001b[32;49mpip install --upgrade pip\u001b[0m\n"
     ]
    }
   ],
   "source": [
    "!pip install snownlp"
   ]
  },
  {
   "cell_type": "code",
   "execution_count": 3,
   "id": "693c5a23",
   "metadata": {},
   "outputs": [
    {
     "name": "stdout",
     "output_type": "stream",
     "text": [
      "情感分析结果:\n",
      "文本:  我很喜欢这部电影，剧情非常精彩，演员表演也很出色！\n",
      "情感倾向:  积极\n",
      "情感分数:  0.9999733399173187\n"
     ]
    }
   ],
   "source": [
    "from snownlp import SnowNLP\n",
    "\n",
    "# 定义待分析的文本\n",
    "text = \"我很喜欢这部电影，剧情非常精彩，演员表演也很出色！\"\n",
    "\n",
    "# 创建SnowNLP对象并进行情感分析\n",
    "s = SnowNLP(text)\n",
    "sentiment_score = s.sentiments\n",
    "\n",
    "# 根据情感分数判断情感倾向\n",
    "if sentiment_score > 0.5:\n",
    "    sentiment = \"积极\"\n",
    "else:\n",
    "    sentiment = \"消极\"\n",
    "\n",
    "# 输出结果\n",
    "print(\"情感分析结果:\",)\n",
    "print(\"文本: \", text)\n",
    "print(\"情感倾向: \", sentiment)\n",
    "print(\"情感分数: \", sentiment_score)"
   ]
  },
  {
   "cell_type": "code",
   "execution_count": null,
   "id": "695d62d8",
   "metadata": {},
   "outputs": [],
   "source": []
  }
 ],
 "metadata": {
  "kernelspec": {
   "display_name": "Python 3 (ipykernel)",
   "language": "python",
   "name": "python3"
  },
  "language_info": {
   "codemirror_mode": {
    "name": "ipython",
    "version": 3
   },
   "file_extension": ".py",
   "mimetype": "text/x-python",
   "name": "python",
   "nbconvert_exporter": "python",
   "pygments_lexer": "ipython3",
   "version": "3.11.2"
  }
 },
 "nbformat": 4,
 "nbformat_minor": 5
}
